{
 "cells": [
  {
   "cell_type": "code",
   "execution_count": 1,
   "id": "770121e4-18f6-4189-b399-55b40b2ac253",
   "metadata": {},
   "outputs": [
    {
     "name": "stderr",
     "output_type": "stream",
     "text": [
      "Flash attention 2 is not installed\n"
     ]
    }
   ],
   "source": [
    "# Импорт необходимых модулей\n",
    "import torch\n",
    "from parler_tts import ParlerTTSForConditionalGeneration\n",
    "from transformers import AutoTokenizer\n",
    "import soundfile as sf\n",
    "import os\n",
    "import pandas as pd\n",
    "import random"
   ]
  },
  {
   "cell_type": "code",
   "execution_count": 2,
   "id": "ca9086f1-027f-442d-96b3-f8b921c3d5bd",
   "metadata": {},
   "outputs": [],
   "source": [
    "def generate_audio(texts, output_dir):\n",
    "    # Загрузка модели\n",
    "    device = \"cuda:0\" if torch.cuda.is_available() else \"cpu\"\n",
    "    model = ParlerTTSForConditionalGeneration.from_pretrained(\"parler-tts/parler-tts-mini-jenny-30H\").to(device)\n",
    "    tokenizer = AutoTokenizer.from_pretrained(\"parler-tts/parler-tts-mini-jenny-30H\")\n",
    "    \n",
    "    # Генерация для каждого текста\n",
    "    for idx, text in enumerate(texts):\n",
    "        print(f\"Генерация аудио для текста {idx + 1}/{len(texts)}\")\n",
    "        prompt = text\n",
    "        description = \"Jenny speaks at an average pace with an animated delivery in a very confined sounding environment with clear audio quality.\"\n",
    "            \n",
    "        # Токенизация текста и описания\n",
    "        input_ids = tokenizer(description, return_tensors=\"pt\").input_ids.to(device)\n",
    "        prompt_input_ids = tokenizer(prompt, return_tensors=\"pt\").input_ids.to(device)\n",
    "   \n",
    "        generation = model.generate(input_ids=input_ids, prompt_input_ids=prompt_input_ids)\n",
    "   \n",
    "        # Преобразование сгенерированного аудио\n",
    "        audio_arr = generation.cpu().numpy().squeeze()\n",
    "\n",
    "        # Определение пути для сохранения аудио\n",
    "        audio_path = os.path.join(output_dir, f\"sample_{idx+1}.wav\")\n",
    "            \n",
    "        # Сохранение аудио в зависимости от его формы\n",
    "        if audio_arr.ndim == 1:  # Моно\n",
    "            sf.write(audio_path, audio_arr, model.config.sampling_rate)\n",
    "        elif audio_arr.ndim == 2:  # Стерео\n",
    "            sf.write(audio_path, audio_arr.T, model.config.sampling_rate)  # Транспонирование для стерео\n",
    "        else:\n",
    "            print(\"Неожиданная форма аудио. Аудио не сохранено.\")\n",
    "            continue\n",
    "\n",
    "        print(f\"Аудио сохранено по пути: {audio_path}\")\n",
    "\n",
    "\n"
   ]
  },
  {
   "cell_type": "code",
   "execution_count": 3,
   "id": "ee949e80-e148-4743-a8b5-dcc64dfd116c",
   "metadata": {},
   "outputs": [
    {
     "name": "stdout",
     "output_type": "stream",
     "text": [
      "Columns: Index(['sentences'], dtype='object')\n"
     ]
    }
   ],
   "source": [
    "\n",
    "\n",
    "# Load the sentences from a CSV file\n",
    "# Replace 'sentences.csv' with the path to your CSV file\n",
    "csv_file_path = 'data/cleaned_sentences.csv'\n",
    "df = pd.read_csv(csv_file_path)\n",
    "# Print original column names\n",
    "print(\"Columns:\", df.columns)"
   ]
  },
  {
   "cell_type": "code",
   "execution_count": 4,
   "id": "f613e996-3558-41ad-b587-5a4458e960c2",
   "metadata": {},
   "outputs": [
    {
     "name": "stdout",
     "output_type": "stream",
     "text": [
      "Randomly selected sentences for evaluation:\n",
      "1: But\n",
      "not a word did he reply.\n",
      "2: I would rather feel\n",
      "your spine than your skull, whoever you are.\n",
      "3: Now, as the lightning rod to a spire on shore is intended to carry off\n",
      "the perilous fluid into the soil; so the kindred rod which at sea some\n",
      "ships carry to each mast, is intended to conduct it into the water.\n",
      "4: These are the times, when in his whale-boat the rover softly feels a\n",
      "certain filial, confident, land-like feeling towards the sea; that he\n",
      "regards it as so much flowery earth; and the distant ship revealing\n",
      "only the tops of her masts, seems struggling forward, not through high\n",
      "rolling waves, but through the tall grass of a rolling prairie: as when\n",
      "the western emigrants’ horses only show their erected ears, while their\n",
      "hidden bodies widely wade through the amazing verdure.\n",
      "5: (_Right Whale_).—In\n",
      "6: What he thought of death itself, there is no\n",
      "telling.\n",
      "7: Yes, said I, we have just signed the articles.\n",
      "8: Ahab stooped to\n",
      "clear it; he did clear it; but the flying turn caught him round the\n",
      "neck, and voicelessly as Turkish mutes bowstring their victim, he was\n",
      "shot out of the boat, ere the crew knew he was gone.\n",
      "9: D’ye feel brave men, brave?\n",
      "\n",
      "As fearless fire, cried Stubb.\n",
      "10: Like dislodged trucks, the heads of the\n",
      "harpooneers aloft shook on their bull-like necks.\n",
      "11: Espied by some timid man-of-war\n",
      "or blundering discovery-vessel from afar, when the distance obscuring\n",
      "the swarming fowls, nevertheless still shows the white mass floating in\n",
      "the sun, and the white spray heaving high against it; straightway the\n",
      "whale’s unharming corpse, with trembling fingers is set down in the\n",
      "log—_shoals, rocks, and breakers hereabouts: beware!_\n",
      "12: With the landless gull, that at sunset folds her wings and is rocked to\n",
      "sleep between billows; so at nightfall, the Nantucketer, out of sight\n",
      "of land, furls his sails, and lays him to his rest, while under his\n",
      "very pillow rush herds of walruses and whales.\n",
      "13: tear yourselves!\n",
      "\n",
      "TASHTEGO.\n",
      "14: The Hyena.\n",
      "15: he must have more than that.\n",
      "\n",
      "Seven hundred and seventy-seventh, again said Bildad, without lifting\n",
      "his eyes; and then went on mumbling—for where your treasure is, there\n",
      "will your heart be also.\n",
      "16: Small\n",
      "sword, or broad sword, in all its exercises boasts nothing like it.\n",
      "17: he cried sharply.\n",
      "18: We were clear from the\n",
      "carcase; sail had been made; the wind was freshening; the wild ocean\n",
      "darkness was intense.\n",
      "19: Ship ahoy!\n",
      "20: With a philosophical flourish Cato throws himself upon his sword; I\n",
      "quietly take to the ship.\n"
     ]
    }
   ],
   "source": [
    "sentence_column = 'sentences'\n",
    "sentences = df[sentence_column].tolist()\n",
    "\n",
    "# Randomly select 20 sentences\n",
    "random_sentences = random.sample(sentences, 20)\n",
    "\n",
    "print(\"Randomly selected sentences for evaluation:\")\n",
    "for i, sentence in enumerate(random_sentences):\n",
    "    print(f\"{i + 1}: {sentence}\")"
   ]
  },
  {
   "cell_type": "code",
   "execution_count": 5,
   "id": "302d2ae4-6882-4cc0-b817-d862521ed333",
   "metadata": {},
   "outputs": [
    {
     "name": "stderr",
     "output_type": "stream",
     "text": [
      "C:\\Users\\q\\anaconda3\\envs\\pytorch_env\\Lib\\site-packages\\torch\\nn\\utils\\weight_norm.py:134: FutureWarning: `torch.nn.utils.weight_norm` is deprecated in favor of `torch.nn.utils.parametrizations.weight_norm`.\n",
      "  WeightNorm.apply(module, name, dim)\n",
      "You set `add_prefix_space`. The tokenizer needs to be converted from the slow tokenizers\n",
      "The attention mask is not set and cannot be inferred from input because pad token is same as eos token.As a consequence, you may observe unexpected behavior. Please pass your input's `attention_mask` to obtain reliable results.\n"
     ]
    },
    {
     "name": "stdout",
     "output_type": "stream",
     "text": [
      "Генерация аудио для текста 1/20\n"
     ]
    },
    {
     "name": "stderr",
     "output_type": "stream",
     "text": [
      "C:\\Users\\q\\anaconda3\\envs\\pytorch_env\\Lib\\site-packages\\parler_tts\\modeling_parler_tts.py:792: UserWarning: 1Torch was not compiled with flash attention. (Triggered internally at C:\\actions-runner\\_work\\pytorch\\pytorch\\builder\\windows\\pytorch\\aten\\src\\ATen\\native\\transformers\\cuda\\sdp_utils.cpp:555.)\n",
      "  attn_output = torch.nn.functional.scaled_dot_product_attention(\n"
     ]
    },
    {
     "name": "stdout",
     "output_type": "stream",
     "text": [
      "Аудио сохранено по пути: generated_audio\\sample_1.wav\n",
      "Генерация аудио для текста 2/20\n",
      "Аудио сохранено по пути: generated_audio\\sample_2.wav\n",
      "Генерация аудио для текста 3/20\n",
      "Аудио сохранено по пути: generated_audio\\sample_3.wav\n",
      "Генерация аудио для текста 4/20\n",
      "Аудио сохранено по пути: generated_audio\\sample_4.wav\n",
      "Генерация аудио для текста 5/20\n",
      "Аудио сохранено по пути: generated_audio\\sample_5.wav\n",
      "Генерация аудио для текста 6/20\n",
      "Аудио сохранено по пути: generated_audio\\sample_6.wav\n",
      "Генерация аудио для текста 7/20\n",
      "Аудио сохранено по пути: generated_audio\\sample_7.wav\n",
      "Генерация аудио для текста 8/20\n",
      "Аудио сохранено по пути: generated_audio\\sample_8.wav\n",
      "Генерация аудио для текста 9/20\n",
      "Аудио сохранено по пути: generated_audio\\sample_9.wav\n",
      "Генерация аудио для текста 10/20\n",
      "Аудио сохранено по пути: generated_audio\\sample_10.wav\n",
      "Генерация аудио для текста 11/20\n",
      "Аудио сохранено по пути: generated_audio\\sample_11.wav\n",
      "Генерация аудио для текста 12/20\n",
      "Аудио сохранено по пути: generated_audio\\sample_12.wav\n",
      "Генерация аудио для текста 13/20\n",
      "Аудио сохранено по пути: generated_audio\\sample_13.wav\n",
      "Генерация аудио для текста 14/20\n",
      "Аудио сохранено по пути: generated_audio\\sample_14.wav\n",
      "Генерация аудио для текста 15/20\n",
      "Аудио сохранено по пути: generated_audio\\sample_15.wav\n",
      "Генерация аудио для текста 16/20\n",
      "Аудио сохранено по пути: generated_audio\\sample_16.wav\n",
      "Генерация аудио для текста 17/20\n",
      "Аудио сохранено по пути: generated_audio\\sample_17.wav\n",
      "Генерация аудио для текста 18/20\n",
      "Аудио сохранено по пути: generated_audio\\sample_18.wav\n",
      "Генерация аудио для текста 19/20\n",
      "Аудио сохранено по пути: generated_audio\\sample_19.wav\n",
      "Генерация аудио для текста 20/20\n",
      "Неожиданная форма аудио. Аудио не сохранено.\n"
     ]
    }
   ],
   "source": [
    "# Использование функции\n",
    "generate_audio(random_sentences, \"generated_audio\")"
   ]
  },
  {
   "cell_type": "code",
   "execution_count": null,
   "id": "31ceed23-11b2-49ed-94a5-df16e37facfd",
   "metadata": {},
   "outputs": [],
   "source": []
  }
 ],
 "metadata": {
  "kernelspec": {
   "display_name": "Python 3 (ipykernel)",
   "language": "python",
   "name": "python3"
  },
  "language_info": {
   "codemirror_mode": {
    "name": "ipython",
    "version": 3
   },
   "file_extension": ".py",
   "mimetype": "text/x-python",
   "name": "python",
   "nbconvert_exporter": "python",
   "pygments_lexer": "ipython3",
   "version": "3.12.3"
  }
 },
 "nbformat": 4,
 "nbformat_minor": 5
}
