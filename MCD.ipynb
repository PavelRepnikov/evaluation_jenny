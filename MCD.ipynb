{
 "cells": [
  {
   "cell_type": "code",
   "execution_count": 15,
   "id": "8ab976c4-b642-496a-b193-7e1454bc6d3f",
   "metadata": {},
   "outputs": [],
   "source": [
    "import numpy as np\n",
    "import librosa\n",
    "import os"
   ]
  },
  {
   "cell_type": "code",
   "execution_count": 16,
   "id": "baea6724-f03f-4652-bcd9-3e355148d0d1",
   "metadata": {},
   "outputs": [],
   "source": [
    "def compute_mcd(reference_file, synthesized_file, target_sr=22050):\n",
    "    \"\"\"\n",
    "    Computes the Mel-Cepstral Distortion (MCD) in dB between reference and synthesized audio files.\n",
    "    Resamples both audio files to the target sample rate if necessary.\n",
    "\n",
    "    Args:\n",
    "        reference_file (str): Path to the reference audio file.\n",
    "        synthesized_file (str): Path to the synthesized audio file.\n",
    "        target_sr (int): Target sample rate for resampling.\n",
    "\n",
    "    Returns:\n",
    "        float: The Mel-Cepstral Distortion in dB between the two audio files.\n",
    "    \"\"\"\n",
    "    # Load audio files\n",
    "    reference, sr_ref = librosa.load(reference_file, sr=None)\n",
    "    synthesized, sr_syn = librosa.load(synthesized_file, sr=None)\n",
    "\n",
    "    # Resample if the sample rates are different\n",
    "    if sr_ref != target_sr:\n",
    "        reference = librosa.resample(reference, orig_sr=sr_ref, target_sr=target_sr)\n",
    "    if sr_syn != target_sr:\n",
    "        synthesized = librosa.resample(synthesized, orig_sr=sr_syn, target_sr=target_sr)\n",
    "\n",
    "    # Compute Mel-frequency cepstral coefficients (MFCCs)\n",
    "    mfcc_ref = librosa.feature.mfcc(y=reference, sr=target_sr, n_mfcc=13)\n",
    "    mfcc_syn = librosa.feature.mfcc(y=synthesized, sr=target_sr, n_mfcc=13)\n",
    "\n",
    "    # Compute MCD for each frame\n",
    "    mcd_values = []\n",
    "    for i in range(min(mfcc_ref.shape[1], mfcc_syn.shape[1])):\n",
    "        mcd_frame = np.sqrt(np.sum((mfcc_ref[:, i] - mfcc_syn[:, i])**2))\n",
    "        mcd_values.append(mcd_frame)\n",
    "\n",
    "    # Average MCD over all frames\n",
    "    avg_mcd = np.mean(mcd_values)\n",
    "\n",
    "    # Convert MCD to dB\n",
    "    if avg_mcd > 0:\n",
    "        avg_mcd_db = 10 * np.log10(avg_mcd)\n",
    "    else:\n",
    "        avg_mcd_db = float('inf')  # Handle log(0) case\n",
    "\n",
    "    return avg_mcd_db"
   ]
  },
  {
   "cell_type": "code",
   "execution_count": 17,
   "id": "6e272fdc-636a-4020-86bf-52881d5fd666",
   "metadata": {},
   "outputs": [
    {
     "name": "stdout",
     "output_type": "stream",
     "text": [
      "Average MCD for sample_1.wav: 23.71\n",
      "Average MCD for sample_2.wav: 23.48\n",
      "Average MCD for sample_3.wav: 23.17\n",
      "Average MCD for sample_4.wav: 23.42\n",
      "Average MCD for sample_5.wav: 23.03\n",
      "Average MCD for sample_6.wav: 23.55\n",
      "Average MCD for sample_7.wav: 23.25\n",
      "Average MCD for sample_8.wav: 23.85\n",
      "Average MCD for sample_9.wav: 23.66\n",
      "Average MCD for sample_10.wav: 23.62\n",
      "Average MCD for sample_11.wav: 23.58\n",
      "Average MCD for sample_12.wav: 23.79\n",
      "Average MCD for sample_13.wav: 23.73\n",
      "Average MCD for sample_14.wav: 22.58\n",
      "Average MCD for sample_15.wav: 23.77\n",
      "Average MCD for sample_16.wav: 23.31\n",
      "Average MCD for sample_17.wav: 23.04\n",
      "Average MCD for sample_18.wav: 23.75\n",
      "Average MCD for sample_19.wav: 22.10\n",
      "\n",
      "Overall Average MCD for all generated audios: 23.39\n"
     ]
    }
   ],
   "source": [
    "# Directory where your audio files are stored\n",
    "generated_audio_dir = 'generated_audio/'  # Directory for generated audio files\n",
    "reference_audio_dir = 'reference_audio/'    # Directory for reference audio files\n",
    "\n",
    "# List of generated audio files (sample_1.wav to sample_19.wav)\n",
    "generated_audios = [os.path.join(generated_audio_dir, f'sample_{i}.wav') for i in range(1, 20)]\n",
    "\n",
    "# List of reference audio files (20.wav to 25.wav)\n",
    "reference_audios = [os.path.join(reference_audio_dir, f'{i}.wav') for i in range(20, 26)]\n",
    "\n",
    "# Store MCD scores for each generated audio\n",
    "mcd_scores = {audio: [] for audio in generated_audios}\n",
    "\n",
    "# Calculate MCD for each generated audio against all reference audios\n",
    "for generated_audio in generated_audios:\n",
    "    for reference_audio in reference_audios:\n",
    "        try:\n",
    "            mcd_score = compute_mcd(reference_audio, generated_audio)\n",
    "            mcd_scores[generated_audio].append(mcd_score)\n",
    "        except Exception as e:\n",
    "            print(f\"Error processing {generated_audio} with {reference_audio}: {e}\")\n",
    "\n",
    "# Calculate average MCD for each generated audio across all reference audios\n",
    "average_mcd_scores = {os.path.basename(audio): np.mean(scores) if scores else None for audio, scores in mcd_scores.items()}\n",
    "\n",
    "# Print average MCD for each generated audio\n",
    "for audio, avg_mcd in average_mcd_scores.items():\n",
    "    if avg_mcd is not None:\n",
    "        print(f\"Average MCD for {audio}: {avg_mcd:.2f}\")\n",
    "    else:\n",
    "        print(f\"Could not calculate MCD for {audio}.\")\n",
    "\n",
    "# Calculate the overall average MCD across all generated audios\n",
    "overall_average_mcd = np.mean([score for scores in mcd_scores.values() for score in scores if scores])\n",
    "print(f\"\\nOverall Average MCD for all generated audios: {overall_average_mcd:.2f}\")"
   ]
  },
  {
   "cell_type": "code",
   "execution_count": null,
   "id": "127e3896-9108-4257-88e0-62740bf116e5",
   "metadata": {},
   "outputs": [],
   "source": []
  }
 ],
 "metadata": {
  "kernelspec": {
   "display_name": "Python 3 (ipykernel)",
   "language": "python",
   "name": "python3"
  },
  "language_info": {
   "codemirror_mode": {
    "name": "ipython",
    "version": 3
   },
   "file_extension": ".py",
   "mimetype": "text/x-python",
   "name": "python",
   "nbconvert_exporter": "python",
   "pygments_lexer": "ipython3",
   "version": "3.12.3"
  }
 },
 "nbformat": 4,
 "nbformat_minor": 5
}
