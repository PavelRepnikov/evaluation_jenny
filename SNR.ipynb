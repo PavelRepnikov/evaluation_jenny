{
 "cells": [
  {
   "cell_type": "code",
   "execution_count": 1,
   "id": "7fccf02b-37f1-462f-b6dc-58b9294a67f9",
   "metadata": {},
   "outputs": [],
   "source": [
    "import numpy as np\n",
    "import librosa\n",
    "import os"
   ]
  },
  {
   "cell_type": "code",
   "execution_count": 5,
   "id": "407ee21a-b787-4513-829f-2e5505fe2bfb",
   "metadata": {},
   "outputs": [],
   "source": [
    "def compute_snr(reference_file, synthesized_file, target_sr=22050):\n",
    "    \"\"\"\n",
    "    Computes the Signal-to-Noise Ratio (SNR) between reference and synthesized audio files.\n",
    "\n",
    "    Args:\n",
    "        reference_file (str): Path to the reference audio file.\n",
    "        synthesized_file (str): Path to the synthesized audio file.\n",
    "        target_sr (int): Target sample rate for resampling.\n",
    "\n",
    "    Returns:\n",
    "        float: The Signal-to-Noise Ratio in dB.\n",
    "    \"\"\"\n",
    "    # Load audio files\n",
    "    reference, sr_ref = librosa.load(reference_file, sr=None)\n",
    "    synthesized, sr_syn = librosa.load(synthesized_file, sr=None)\n",
    "\n",
    "    # Resample if the sample rates are different\n",
    "    if sr_ref != target_sr:\n",
    "        reference = librosa.resample(reference, orig_sr=sr_ref, target_sr=target_sr)\n",
    "    if sr_syn != target_sr:\n",
    "        synthesized = librosa.resample(synthesized, orig_sr=sr_syn, target_sr=target_sr)\n",
    "\n",
    "    # Trim signals to the same length\n",
    "    min_length = min(len(reference), len(synthesized))\n",
    "    reference = reference[:min_length]\n",
    "    synthesized = synthesized[:min_length]\n",
    "\n",
    "    # Calculate signal power and noise power\n",
    "    noise = synthesized - reference  # Assuming synthesized is the \"noisy\" signal\n",
    "    signal_power = np.mean(reference**2)\n",
    "    noise_power = np.mean(noise**2)\n",
    "\n",
    "    # Avoid division by zero\n",
    "    if noise_power == 0:\n",
    "        return float('inf')  # Infinite SNR if there's no noise\n",
    "\n",
    "    # Calculate SNR in dB\n",
    "    snr = 10 * np.log10(signal_power / noise_power)\n",
    "    return snr"
   ]
  },
  {
   "cell_type": "code",
   "execution_count": 6,
   "id": "c72e9046-b6bc-4c74-ac39-3dadfcc5cc8c",
   "metadata": {},
   "outputs": [
    {
     "name": "stdout",
     "output_type": "stream",
     "text": [
      "Average SNR for sample_1.wav: -0.40 dB\n",
      "Average SNR for sample_2.wav: -0.31 dB\n",
      "Average SNR for sample_3.wav: -0.38 dB\n",
      "Average SNR for sample_4.wav: -0.41 dB\n",
      "Average SNR for sample_5.wav: -0.88 dB\n",
      "Average SNR for sample_6.wav: -0.28 dB\n",
      "Average SNR for sample_7.wav: -0.42 dB\n",
      "Average SNR for sample_8.wav: -0.38 dB\n",
      "Average SNR for sample_9.wav: -0.37 dB\n",
      "Average SNR for sample_10.wav: -0.34 dB\n",
      "Average SNR for sample_11.wav: -0.44 dB\n",
      "Average SNR for sample_12.wav: -0.30 dB\n",
      "Average SNR for sample_13.wav: -0.37 dB\n",
      "Average SNR for sample_14.wav: -21.67 dB\n",
      "Average SNR for sample_15.wav: -0.32 dB\n",
      "Average SNR for sample_16.wav: -0.36 dB\n",
      "Average SNR for sample_17.wav: -4.11 dB\n",
      "Average SNR for sample_18.wav: -0.37 dB\n",
      "Average SNR for sample_19.wav: -17.07 dB\n",
      "\n",
      "Overall Average SNR for all generated audios: -2.59 dB\n"
     ]
    }
   ],
   "source": [
    "# Directory where your audio files are stored\n",
    "generated_audio_dir = 'generated_audio/'  # Directory for generated audio files\n",
    "reference_audio_dir = 'reference_audio/'    # Directory for reference audio files\n",
    "\n",
    "# List of generated audio files (sample_1.wav to sample_19.wav)\n",
    "generated_audios = [os.path.join(generated_audio_dir, f'sample_{i}.wav') for i in range(1, 20)]\n",
    "\n",
    "# List of reference audio files (20.wav to 25.wav)\n",
    "reference_audios = [os.path.join(reference_audio_dir, f'{i}.wav') for i in range(20, 26)]\n",
    "\n",
    "# Store SNR scores for each generated audio\n",
    "snr_scores = {audio: [] for audio in generated_audios}\n",
    "\n",
    "# Calculate SNR for each generated audio against all reference audios\n",
    "for generated_audio in generated_audios:\n",
    "    for reference_audio in reference_audios:\n",
    "        try:\n",
    "            snr_score = compute_snr(reference_audio, generated_audio)\n",
    "            snr_scores[generated_audio].append(snr_score)\n",
    "        except Exception as e:\n",
    "            print(f\"Error processing {generated_audio} with {reference_audio}: {e}\")\n",
    "\n",
    "# Calculate average SNR for each generated audio across all reference audios\n",
    "average_snr_scores = {os.path.basename(audio): np.mean(scores) if scores else None for audio, scores in snr_scores.items()}\n",
    "\n",
    "# Print average SNR for each generated audio\n",
    "for audio, avg_snr in average_snr_scores.items():\n",
    "    if avg_snr is not None:\n",
    "        print(f\"Average SNR for {audio}: {avg_snr:.2f} dB\")\n",
    "    else:\n",
    "        print(f\"Could not calculate SNR for {audio}.\")\n",
    "\n",
    "# Calculate the overall average SNR across all generated audios\n",
    "overall_average_snr = np.mean([score for scores in snr_scores.values() for score in scores if scores])\n",
    "print(f\"\\nOverall Average SNR for all generated audios: {overall_average_snr:.2f} dB\")"
   ]
  },
  {
   "cell_type": "code",
   "execution_count": null,
   "id": "ed6e7ac8-429d-4c14-b910-658dd73c0c32",
   "metadata": {},
   "outputs": [],
   "source": []
  }
 ],
 "metadata": {
  "kernelspec": {
   "display_name": "Python 3 (ipykernel)",
   "language": "python",
   "name": "python3"
  },
  "language_info": {
   "codemirror_mode": {
    "name": "ipython",
    "version": 3
   },
   "file_extension": ".py",
   "mimetype": "text/x-python",
   "name": "python",
   "nbconvert_exporter": "python",
   "pygments_lexer": "ipython3",
   "version": "3.12.3"
  }
 },
 "nbformat": 4,
 "nbformat_minor": 5
}
